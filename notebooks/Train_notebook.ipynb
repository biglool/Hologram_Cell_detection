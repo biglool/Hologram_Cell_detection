{
  "nbformat": 4,
  "nbformat_minor": 0,
  "metadata": {
    "colab": {
      "private_outputs": true,
      "provenance": [],
      "machine_shape": "hm",
      "authorship_tag": "ABX9TyObDpeq+1nPQkOahd1Ogbhy",
      "include_colab_link": true
    },
    "kernelspec": {
      "name": "python3",
      "display_name": "Python 3"
    },
    "language_info": {
      "name": "python"
    }
  },
  "cells": [
    {
      "cell_type": "markdown",
      "metadata": {
        "id": "view-in-github",
        "colab_type": "text"
      },
      "source": [
        "<a href=\"https://colab.research.google.com/github/biglool/Hologram_Cell_detection/blob/main/notebooks/Train_notebook.ipynb\" target=\"_parent\"><img src=\"https://colab.research.google.com/assets/colab-badge.svg\" alt=\"Open In Colab\"/></a>"
      ]
    },
    {
      "cell_type": "markdown",
      "source": [
        "# Connectar a Colab e importar el repo"
      ],
      "metadata": {
        "id": "7_-0T--1eGVy"
      }
    },
    {
      "cell_type": "code",
      "execution_count": null,
      "metadata": {
        "id": "6GzgagSXidGd"
      },
      "outputs": [],
      "source": [
        "from google.colab import drive\n",
        "drive.mount('/content/gdrive', force_remount=True)\n"
      ]
    },
    {
      "cell_type": "code",
      "execution_count": null,
      "metadata": {
        "id": "tOCaxERJOAMr"
      },
      "outputs": [],
      "source": [
        "! git clone -l -s \"https://github.com/biglool/Hologram_Cell_detection/\" holo_cells"
      ]
    },
    {
      "cell_type": "code",
      "execution_count": null,
      "metadata": {
        "id": "u2ClKYEhF72L"
      },
      "outputs": [],
      "source": [
        "! pip install keras_cv # se requiera para resnet 18"
      ]
    },
    {
      "cell_type": "markdown",
      "source": [
        "# Ejemplo de creacion de un modelo"
      ],
      "metadata": {
        "id": "dzcaWUBzeBcw"
      }
    },
    {
      "cell_type": "code",
      "source": [
        "from holo_cells.src.models.Mobilenet import build_model"
      ],
      "metadata": {
        "id": "_tPSN3rrOPlV"
      },
      "execution_count": null,
      "outputs": []
    },
    {
      "cell_type": "code",
      "source": [
        "\n",
        "input_shape= (256, 384)\n",
        "model =build_model(input_shape)\n",
        "model.summary()"
      ],
      "metadata": {
        "id": "aoUOH98NPnDk"
      },
      "execution_count": null,
      "outputs": []
    },
    {
      "cell_type": "markdown",
      "source": [
        "# Ejemplo carga Dataset(descomprimir en local para agilizar)"
      ],
      "metadata": {
        "id": "ZfMSFJQ4g8_i"
      }
    },
    {
      "cell_type": "code",
      "source": [
        "from holo_cells.src.training.DataGenerator import  DataGenerator\n",
        "from holo_cells.src.training.utils import unzip, showBatch\n",
        "from holo_cells.src.training.train import train"
      ],
      "metadata": {
        "id": "pNwZGvcPiwKZ"
      },
      "execution_count": null,
      "outputs": []
    },
    {
      "cell_type": "markdown",
      "source": [
        "descomprimir"
      ],
      "metadata": {
        "id": "AfKQ2JMijECj"
      }
    },
    {
      "cell_type": "code",
      "source": [
        "holo_zip = '/content/gdrive/MyDrive/Curro/Hologrames/Datos_sinteticos/Holo_subdiv/Net_325_256_prof_950_800_siz_11_14.zip'\n",
        "destino= \"Datos_sinteticos/\"\n",
        "unzip(holo_zip,destino)"
      ],
      "metadata": {
        "id": "FPsMW9GDiWYE"
      },
      "execution_count": null,
      "outputs": []
    },
    {
      "cell_type": "markdown",
      "source": [
        "Cargar datos en Datagenerator"
      ],
      "metadata": {
        "id": "Jby_2jDzjHZJ"
      }
    },
    {
      "cell_type": "code",
      "source": [
        "\n",
        "data_folder = 'Datos_sinteticos/hologramas'\n",
        "ground_truth_folder = 'Datos_sinteticos/mascaras'\n",
        "img_shape = (256,384,1)\n",
        "batch_size=16\n",
        "\n",
        "# Create data generators for training, validation, and test sets\n",
        "train_gen = DataGenerator(data_folder+\"/train/\", ground_truth_folder+\"/train/\", batch_size,img_shape,data_augmentation=True, shuffle=True)\n",
        "val_gen = DataGenerator(data_folder+\"/val/\", ground_truth_folder+\"/val/\", batch_size, img_shape, shuffle=False)\n",
        "test_gen = DataGenerator(data_folder+\"/test/\", ground_truth_folder+\"/test/\", batch_size, img_shape, shuffle=False)\n"
      ],
      "metadata": {
        "id": "DJdnS8zljB48"
      },
      "execution_count": null,
      "outputs": []
    },
    {
      "cell_type": "code",
      "source": [
        "showBatch(train_gen.__getitem__(0))"
      ],
      "metadata": {
        "id": "Nv6tVNF5i-xo"
      },
      "execution_count": null,
      "outputs": []
    },
    {
      "cell_type": "code",
      "source": [
        "ruta_model='/content/gdrive/MyDrive/Curro/Hologrames/Models/mobilenet_test_repo.keras'\n",
        "history=train(model, ruta_model, train_gen,val_gen,  lr=1e-4, ee_patience= 17, reduce_patience=4 )"
      ],
      "metadata": {
        "id": "OaRHMa09j2aq"
      },
      "execution_count": null,
      "outputs": []
    },
    {
      "cell_type": "code",
      "source": [
        "model.evaluate(test_gen)"
      ],
      "metadata": {
        "id": "97O_bz9o3N_c"
      },
      "execution_count": null,
      "outputs": []
    }
  ]
}