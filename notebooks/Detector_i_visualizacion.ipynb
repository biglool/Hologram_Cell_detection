{
  "nbformat": 4,
  "nbformat_minor": 0,
  "metadata": {
    "colab": {
      "private_outputs": true,
      "provenance": [],
      "machine_shape": "hm",
      "authorship_tag": "ABX9TyMvgxW9DzMvYnktmMLoQZ1T",
      "include_colab_link": true
    },
    "kernelspec": {
      "name": "python3",
      "display_name": "Python 3"
    },
    "language_info": {
      "name": "python"
    }
  },
  "cells": [
    {
      "cell_type": "markdown",
      "metadata": {
        "id": "view-in-github",
        "colab_type": "text"
      },
      "source": [
        "<a href=\"https://colab.research.google.com/github/biglool/Hologram_Cell_detection/blob/main/notebooks/Detector_i_visualizacion.ipynb\" target=\"_parent\"><img src=\"https://colab.research.google.com/assets/colab-badge.svg\" alt=\"Open In Colab\"/></a>"
      ]
    },
    {
      "cell_type": "markdown",
      "source": [
        "# Importar repo y conecta drive"
      ],
      "metadata": {
        "id": "UomPDuz34rvG"
      }
    },
    {
      "cell_type": "code",
      "source": [
        "from google.colab import drive\n",
        "drive.mount('/content/gdrive', force_remount=True)\n",
        ""
      ],
      "metadata": {
        "id": "mtMw2QvE4USf"
      },
      "execution_count": null,
      "outputs": []
    },
    {
      "cell_type": "code",
      "source": [
        "! git clone -l -s \"https://github.com/biglool/Hologram_Cell_detection/\" holo_cells"
      ],
      "metadata": {
        "id": "IjyW93Y_5BAu"
      },
      "execution_count": null,
      "outputs": []
    },
    {
      "cell_type": "markdown",
      "source": [
        "# Carga detector i uso de modelo para prediccion en casos reales"
      ],
      "metadata": {
        "id": "48te3kKx4Y0j"
      }
    },
    {
      "cell_type": "code",
      "source": [
        "from holo_cells.src.Utilizacion_Visualizacion import Detector,visualizacion\n",
        "\n",
        "import math"
      ],
      "metadata": {
        "id": "HjN84Ces5GxG"
      },
      "execution_count": null,
      "outputs": []
    },
    {
      "cell_type": "code",
      "execution_count": null,
      "metadata": {
        "id": "L3Alq0qG2UC7"
      },
      "outputs": [],
      "source": [
        "mostres=[\"/content/gdrive/MyDrive/Curro/Hologrames/Datos_reales/2024_01_25/Samples_01_normalized_mosaic\",\n",
        "    \"/content/gdrive/MyDrive/Curro/Hologrames/Datos_reales/2024_01_25/Samples_02_6_normalized_bg8_mosaic\",\n",
        "    \"/content/gdrive/MyDrive/Curro/Hologrames/Datos_reales/2024_01_25/Samples_03_2_normalized_mosaic\",\n",
        "    \"/content/gdrive/MyDrive/Curro/Hologrames/Datos_reales/2024_01_25/Samples_04_1_normalized_mosaic\"]\n",
        "\n",
        "modelo=\"/content/gdrive/MyDrive/Curro/Hologrames/Datos_sinteticos/Holo_subdiv/Net_325_256_prof_950_800_siz_11_14/UNET_384_Only_11_14.keras\"\n",
        "#modelo=\"/content/gdrive/MyDrive/Curro/Hologrames/Datos_sinteticos/Holo_subdiv/Net_325_256_prof_950_800_siz_11_14/Mobilenet_Upsampling_384_Only_11_14.keras\"\n",
        "\n",
        "original_shape_cut=(1024,1536)\n",
        "model_shape=(256,384)\n",
        "step_size=(math.floor(original_shape_cut[0]*0.98), math.floor(original_shape_cut[1]*0.7))\n",
        "\n",
        "detector=Detector.Detector(modelo, cellCluster_size=20,original_shape_cut=original_shape_cut,model_shape=model_shape,step_size=step_size, min_confidence =0.4) #original_shape_cut,model_shape,\n",
        "\n",
        "visualizacion.Visualiza_carpeta_real(detector, mostres)"
      ]
    }
  ]
}