{
  "nbformat": 4,
  "nbformat_minor": 0,
  "metadata": {
    "colab": {
      "private_outputs": true,
      "provenance": [],
      "authorship_tag": "ABX9TyMIFshdfY6BntsFJ/74U+z6",
      "include_colab_link": true
    },
    "kernelspec": {
      "name": "python3",
      "display_name": "Python 3"
    },
    "language_info": {
      "name": "python"
    }
  },
  "cells": [
    {
      "cell_type": "markdown",
      "metadata": {
        "id": "view-in-github",
        "colab_type": "text"
      },
      "source": [
        "<a href=\"https://colab.research.google.com/github/biglool/Hologram_Cell_detection/blob/main/notebooks/Generador_datos.ipynb\" target=\"_parent\"><img src=\"https://colab.research.google.com/assets/colab-badge.svg\" alt=\"Open In Colab\"/></a>"
      ]
    },
    {
      "cell_type": "markdown",
      "source": [
        "# Conectar a colab e importar repo"
      ],
      "metadata": {
        "id": "bJaJJ1C3pN0l"
      }
    },
    {
      "cell_type": "code",
      "execution_count": null,
      "metadata": {
        "id": "6GzgagSXidGd"
      },
      "outputs": [],
      "source": [
        "from google.colab import drive\n",
        "drive.mount('/content/gdrive', force_remount=True)\n"
      ]
    },
    {
      "cell_type": "code",
      "execution_count": null,
      "metadata": {
        "id": "tOCaxERJOAMr"
      },
      "outputs": [],
      "source": [
        "! git clone -l -s \"https://github.com/biglool/Hologram_Cell_detection/\" holo_cells"
      ]
    },
    {
      "cell_type": "markdown",
      "source": [
        "# Ejemplo generador de datos"
      ],
      "metadata": {
        "id": "1FSlSriIph1w"
      }
    },
    {
      "cell_type": "code",
      "source": [
        "from holo_cells.src.Generador_datos import Generador"
      ],
      "metadata": {
        "id": "GNlR6LRopmmX"
      },
      "execution_count": null,
      "outputs": []
    },
    {
      "cell_type": "code",
      "source": [
        "from tqdm import tqdm\n",
        "\n",
        "carpeta_base=\"Test\" #ha d'existir\n",
        "\n",
        "img_size=(1536, 1024)\n",
        "min_prof=800\n",
        "max_prof= 950\n",
        "margin=100\n",
        "min_size=11\n",
        "max_size=14\n",
        "\n",
        "\n",
        "mount = {\n",
        "\n",
        "    'wavelength': 488.0,\n",
        "    'pitch_camera': 2.4,\n",
        "    'pitch_display': 4.0,\n",
        "    'distance_display_camera': 10.0,\n",
        "    'distance_display_sample': 572,\n",
        "    'distance_display_sample_delta': 10.0,\n",
        "    'distance_for_sample_at_camera_pixels': 4000,\n",
        "    'distance_for_sample_at_camera': 1667,\n",
        "    'distance_for_sample_at_display_pixels': 10.0,\n",
        "    'distance_for_sample_at_display': 40.0\n",
        "\n",
        "}\n",
        "\n",
        "\n",
        "for carpeta in [[\"train\",6000],[\"val\",2000],[\"test\",2000]]:\n",
        "    for id in tqdm(range(carpeta[1])):\n",
        "        Generador.genera_guarda_holograma(id,carpeta_base,carpeta,min_prof,max_prof,min_size, max_size,img_size,margin, mount)"
      ],
      "metadata": {
        "id": "TjDRpvl6rBbV"
      },
      "execution_count": null,
      "outputs": []
    }
  ]
}