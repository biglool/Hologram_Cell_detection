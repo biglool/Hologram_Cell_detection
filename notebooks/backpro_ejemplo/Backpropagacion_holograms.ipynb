{
  "nbformat": 4,
  "nbformat_minor": 0,
  "metadata": {
    "colab": {
      "private_outputs": true,
      "provenance": [],
      "authorship_tag": "ABX9TyMhFvI/Z1AqomfCaA2sE9D0",
      "include_colab_link": true
    },
    "kernelspec": {
      "name": "python3",
      "display_name": "Python 3"
    },
    "language_info": {
      "name": "python"
    }
  },
  "cells": [
    {
      "cell_type": "markdown",
      "metadata": {
        "id": "view-in-github",
        "colab_type": "text"
      },
      "source": [
        "<a href=\"https://colab.research.google.com/github/biglool/Hologram_Cell_detection/blob/main/notebooks/backpro_ejemplo/Backpropagacion_holograms.ipynb\" target=\"_parent\"><img src=\"https://colab.research.google.com/assets/colab-badge.svg\" alt=\"Open In Colab\"/></a>"
      ]
    },
    {
      "cell_type": "code",
      "execution_count": null,
      "metadata": {
        "id": "QwbpQXtXscnp"
      },
      "outputs": [],
      "source": [
        "from google.colab import drive\n",
        "drive.mount('/content/gdrive', force_remount=True)\n"
      ]
    },
    {
      "cell_type": "code",
      "source": [
        "!git clone -l -s \"https://github.com/biglool/Hologram_Cell_detection/\" holo_cells"
      ],
      "metadata": {
        "id": "nfXKaywUvq_2"
      },
      "execution_count": null,
      "outputs": []
    },
    {
      "cell_type": "code",
      "source": [
        "\n",
        "import os\n",
        "from PIL import Image\n",
        "import numpy as np\n",
        "import matplotlib.pyplot as plt\n",
        "import matplotlib.image as mpimg\n",
        "import json\n",
        "\n",
        "from holo_cells.src.Generador_datos.unxip_auxiliars import apodize,reconstruct_hologram_with_twin_image_removal\n",
        "\n",
        "carpeta_imatges= \"/content/gdrive/MyDrive/Curro/Hologrames/Datos_reales/2024_01_25/\" # aixo es el meu drive\n",
        "# !!!!! la carpeta la he compartit a https://drive.google.com/drive/folders/12KfNBywcqimDPgFHU-Dqj32LZ858tY4a?usp=drive_link\n",
        "# !!!!! Podeu en principi accedir desde el drive com faig jo, pero heu de fer: https://stackoverflow.com/questions/54351852/accessing-shared-with-me-with-colab i corretgir la ruta\n",
        "\n",
        "\n",
        "#!!!!! notar que aqui es pillen mosaics, les imatges soles haurien de funcionar ,\n",
        "#!!!!! pero quan feu la captura pilleu nomes una grid perque us guardi la info del mount correctament( sino ho mirem)\n",
        "mostres=[\"Samples_01_normalized_mosaic\", \"Samples_03_2_normalized_mosaic\",]\n",
        "\n",
        "\n",
        "capture_file = carpeta_imatges+'capture_collection.json'\n",
        "\n",
        "with open(capture_file, 'r') as file:\n",
        "    capture_data = json.load(file)\n",
        "\n",
        "def find_annotations_for_image(image_uid, analysis_data):\n",
        "      for key, value in analysis_data.items():\n",
        "          if 'iid' in value and value['iid'] == image_uid:\n",
        "              return value.get('mount', [])\n",
        "      return []\n",
        "\n",
        "for imagen_name in mostres:\n",
        "\n",
        "  if os.path.exists(carpeta_imatges+imagen_name):\n",
        "    for f in os.listdir(carpeta_imatges+imagen_name):\n",
        "      print(carpeta_imatges+imagen_name+f)\n",
        "      #mount info\n",
        "      mount=find_annotations_for_image(imagen_name, capture_data)\n",
        "      im=Image.open(carpeta_imatges+imagen_name+\"/\"+f)\n",
        "      l=mount[\"wavelength\"]* 1e-9\n",
        "      h=im.size[1] * mount[\"pitch_camera\"]* 1e-6\n",
        "      z=mount[\"distance_display_camera\"]* 1e-3\n",
        "      z0=mount[\"distance_display_sample\"]* 1e-6\n",
        "      twin_image_iterations=5\n",
        "      apodization=118\n",
        "\n",
        "      #visualzacio original y projecció\n",
        "      plt.imshow(np.array(im))\n",
        "      plt.show()\n",
        "      im=apodize(im,int((apodization/4)*3))\n",
        "      proyeccion= np.array(reconstruct_hologram_with_twin_image_removal(im,l,h,z,z0))\n",
        "      plt.imshow(proyeccion)\n",
        "      plt.show()"
      ],
      "metadata": {
        "id": "kT1uXBvmvYC6"
      },
      "execution_count": null,
      "outputs": []
    },
    {
      "cell_type": "code",
      "source": [
        "\n"
      ],
      "metadata": {
        "id": "reQbMg8qurbU"
      },
      "execution_count": null,
      "outputs": []
    }
  ]
}